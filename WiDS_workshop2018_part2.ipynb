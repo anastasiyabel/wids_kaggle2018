{
 "cells": [
  {
   "cell_type": "markdown",
   "metadata": {
    "slideshow": {
     "slide_type": "slide"
    }
   },
   "source": [
    "# PART II: MODELING\n",
    "\n",
    "- Introduction to Machine Learning\n",
    "- Models for Classification\n",
    "  - Logistic regression\n",
    "  - SVM\n",
    "  - Decision tree\n",
    "  - Ensemble methods\n",
    "- Example: Predicting Hubway User Type\n",
    "- Advanced Models"
   ]
  },
  {
   "cell_type": "code",
   "execution_count": 1,
   "metadata": {
    "collapsed": true,
    "slideshow": {
     "slide_type": "skip"
    }
   },
   "outputs": [],
   "source": [
    "# importing libraries\n",
    "%matplotlib inline\n",
    "import matplotlib\n",
    "import pandas as pd # package for data analysis, reading in the data, summarizing data, manipulating data\n",
    "import numpy as np # package for math operations\n",
    "import matplotlib.pyplot as plt # package for plotting\n",
    "from IPython.display import Image\n",
    "import itertools\n",
    "from math import radians, cos, sin, asin, sqrt\n",
    "from sklearn import preprocessing, metrics, model_selection, linear_model, ensemble, svm, tree"
   ]
  },
  {
   "cell_type": "code",
   "execution_count": 14,
   "metadata": {
    "collapsed": true,
    "slideshow": {
     "slide_type": "skip"
    }
   },
   "outputs": [],
   "source": [
    "# setting up variables for later computation\n",
    "current_year = 2017.\n",
    "rand_state = 2\n",
    "test_size = 0.3\n",
    "\n",
    "# set random seed\n",
    "np.random.seed(rand_state)\n",
    "\n",
    "# funtion to convert birth date to age\n",
    "year_to_age = lambda s: 0 if 'N' in s else 2017 - int(s)\n",
    "\n",
    "# function to convert long/lat to distance from Boston City Center\n",
    "def haversine(pt, lat2=42.355589, lon2=-71.060175):\n",
    "    lon1 = pt[0]\n",
    "    lat1 = pt[1]\n",
    "    \n",
    "    # convert decimal degrees to radians \n",
    "    lon1, lat1, lon2, lat2 = map(radians, [lon1, lat1, lon2, lat2])\n",
    "\n",
    "    # haversine formula \n",
    "    dlon = lon2 - lon1 \n",
    "    dlat = lat2 - lat1 \n",
    "    a = sin(dlat/2)**2 + cos(lat1) * cos(lat2) * sin(dlon/2)**2\n",
    "    c = 2 * asin(sqrt(a)) \n",
    "    r = 3956 # Radius of earth in miles\n",
    "    return c * r\n",
    "\n",
    "#--------  plot_decision_boundary\n",
    "# A function that visualizes the data and the decision boundaries\n",
    "# Input: \n",
    "#      x (predictors)\n",
    "#      y (labels)\n",
    "#      model (classifier)\n",
    "#      poly_flag (fits quadratic model if true, otherwise linear)\n",
    "#      title (title for plot)\n",
    "#      ax (a set of axes to plot on)\n",
    "# Returns: \n",
    "#      ax (axes with data and decision boundaries)\n",
    "\n",
    "def plot_decision_boundary(x, y, model, title, ax, bounds=(0, 1), poly_flag=False):\n",
    "    # Plot data\n",
    "    ax.scatter(x[y == 1, 0], x[y == 1, 1], c='blue')\n",
    "    ax.scatter(x[y == 0, 0], x[y == 0, 1], c='red', alpha=0.3)\n",
    "    \n",
    "    # Create mesh\n",
    "    interval = np.arange(bounds[0], bounds[1], 0.01)\n",
    "    n = np.size(interval)\n",
    "    x1, x2 = np.meshgrid(interval, interval)\n",
    "    x1 = x1.reshape(-1, 1)\n",
    "    x2 = x2.reshape(-1, 1)\n",
    "    xx = np.concatenate((x1, x2), axis=1)\n",
    "\n",
    "    # Predict on mesh points\n",
    "    if(poly_flag):\n",
    "        quad_features = preprocessing.PolynomialFeatures(degree=2)\n",
    "        xx = quad_features.fit_transform(xx)\n",
    "        \n",
    "        \n",
    "    yy = model.predict(xx)    \n",
    "    yy = yy.reshape((n, n))\n",
    "\n",
    "    # Plot decision surface\n",
    "    x1 = x1.reshape(n, n)\n",
    "    x2 = x2.reshape(n, n)\n",
    "    ax.contourf(x1, x2, yy, alpha=0.1, cmap='Blues')\n",
    "    \n",
    "    # Label axes, set title\n",
    "    ax.set_title(title)\n",
    "    ax.set_xlabel('Feature 1')\n",
    "    ax.set_ylabel('Feature 2')\n",
    "    \n",
    "    return ax\n",
    "\n",
    "# function to generate some toy data for classification\n",
    "def generate_toy_data(test_size, rand_state):\n",
    "    data = np.random.multivariate_normal([0, 0], np.eye(2) * 5, size=200)\n",
    "    data = np.hstack((data, np.zeros((200, 1))))\n",
    "    data[data[:, 0]**2 + data[:, 1]**2 < 3**2, 2] = np.random.choice([0, 1], \n",
    "                                                                     len(data[data[:, 0]**2 + data[:, 1]**2 < 3**2]), \n",
    "                                                                     p=[0.2, 0.8])\n",
    "    X = data[:, :-1]\n",
    "    y = data[:, -1]\n",
    "    \n",
    "    # train test split\n",
    "    return model_selection.train_test_split(X, y, test_size=test_size, random_state=rand_state)"
   ]
  },
  {
   "cell_type": "code",
   "execution_count": 15,
   "metadata": {
    "collapsed": true,
    "slideshow": {
     "slide_type": "skip"
    }
   },
   "outputs": [],
   "source": [
    "# read in ride data\n",
    "ride_data = pd.read_csv('hubway_data_subset.csv', index_col=0)\n",
    "# read in station data\n",
    "station_data = pd.read_csv('hubway_stations.csv', low_memory=False)[['id', 'lat', 'lng']]"
   ]
  },
  {
   "cell_type": "code",
   "execution_count": 16,
   "metadata": {
    "collapsed": true,
    "slideshow": {
     "slide_type": "skip"
    }
   },
   "outputs": [],
   "source": [
    "# compute age from birth dates\n",
    "ride_data.loc[:, 'age'] = current_year - ride_data['birth_date'].values\n",
    "# join longitude/latitude to ride dataframe by the start station id \n",
    "ride_data_with_gps = ride_data.join(station_data.set_index('id'), on='strt_statn')\n",
    "# compute distance from start station to city center \n",
    "ride_data.loc[:, 'start_dist_to_center'] = list(map(haversine, ride_data_with_gps[['lng', 'lat']].values))\n",
    "# join longitude/latitude to ride dataframe by the end station id \n",
    "ride_data_with_gps = ride_data.join(station_data.set_index('id'), on='end_statn')\n",
    "# compute distance from end station to city center \n",
    "ride_data.loc[:, 'end_dist_to_center'] = list(map(haversine, ride_data_with_gps[['lng', 'lat']].values))"
   ]
  },
  {
   "cell_type": "markdown",
   "metadata": {
    "slideshow": {
     "slide_type": "slide"
    }
   },
   "source": [
    "# WHAT IS MACHINE LEARNING?\n",
    "\n",
    "Automated learning of rules and patterns from data."
   ]
  },
  {
   "cell_type": "markdown",
   "metadata": {
    "slideshow": {
     "slide_type": "fragment"
    }
   },
   "source": [
    "**Supervised vs unsupervised**\n",
    "\n",
    "Supervised: learning rules from provided examples\n",
    "\n",
    "<img src=\"images/supervised1.png\" alt=\"\" style=\"height: 300px;\"/>"
   ]
  },
  {
   "cell_type": "markdown",
   "metadata": {
    "slideshow": {
     "slide_type": "subslide"
    }
   },
   "source": [
    "Supervised: learning rules from provided examples\n",
    "\n",
    "<img src=\"images/supervised2.png\" alt=\"\" style=\"height: 300px;\"/>"
   ]
  },
  {
   "cell_type": "markdown",
   "metadata": {
    "slideshow": {
     "slide_type": "subslide"
    }
   },
   "source": [
    "Unsupervised: learning hidden (latent) structures \n",
    "\n",
    "<img src=\"images/unsupervised1.png\" alt=\"\" style=\"height: 300px;\"/>"
   ]
  },
  {
   "cell_type": "markdown",
   "metadata": {
    "slideshow": {
     "slide_type": "subslide"
    }
   },
   "source": [
    "Unsupervised: learning hidden (latent) structures \n",
    "\n",
    "<img src=\"images/unsupervised2.png\" alt=\"\" style=\"height: 300px;\"/>"
   ]
  },
  {
   "cell_type": "markdown",
   "metadata": {
    "slideshow": {
     "slide_type": "subslide"
    }
   },
   "source": [
    "**Regression vs classification**\n",
    "\n",
    "A common task for supervised learning is to use a observed values of a set of ***predictors***\n",
    "$$\n",
    "[x_1, \\ldots, x_D] \\in \\mathbb{R}^D\n",
    "$$\n",
    "to predict a quantity of interest $y$, called the ***response***. \n",
    "\n",
    "If $y$ is a real-valued variable, we call the task ***regression***, if $y$ is a label (categorical variable) we all the task ***classification***."
   ]
  },
  {
   "cell_type": "markdown",
   "metadata": {
    "slideshow": {
     "slide_type": "subslide"
    }
   },
   "source": [
    "**Training**\n",
    "\n",
    "In supervised learning, when we say we are ***training*** or ***fitting*** a model, we typically mean that\n",
    "0. We have a set of observations, called ***training data***,\n",
    "$$\n",
    "\\{(\\mathbf{x}_1, y_1),\\ldots, (\\mathbf{x}_N, y_N)\\}\n",
    "$$\n",
    "where each $\\mathbf{x}_n$ is the observed values of the $D$-number of predictors $\\mathbf{x}_n = [x_1, \\ldots, x_D]$.\n",
    "1. We have a 'function' in mind that explains how the response depends on the predictors\n",
    "$$\n",
    "f(x_1, \\ldots, x_D) \\rightarrow y.\n",
    "$$\n",
    "2. This function has some constants/coefficients we need to set, these are called ***parameters***, e.g.\n",
    "$$\n",
    "f(x_1, \\ldots, x_D) = w_1\\sin(x_1) + \\ldots + w_D \\sin(x_D)\n",
    "$$\n",
    "3. We find the values of these parameters so to best explain the observed data (e.g. our model should explain what we've seen).\n",
    "4. To evaluate our model, we use our function to make predictions $\\widehat{y}$ and compare them to the true response $y$ in our training data. \n",
    "\n",
    "For classification, we will be using ***accuracy***, i.e. the percentage of points correctly labeled by our model."
   ]
  },
  {
   "cell_type": "markdown",
   "metadata": {
    "slideshow": {
     "slide_type": "subslide"
    }
   },
   "source": [
    "**Testing**\n",
    "\n",
    "**Question:** Is it enough to check that we do well on the training data?\n",
    "\n",
    "**Hint:** remember that you optimized your model to explain the training data."
   ]
  },
  {
   "cell_type": "markdown",
   "metadata": {
    "slideshow": {
     "slide_type": "slide"
    }
   },
   "source": [
    "# MODELS FOR CLASSIFICATION\n",
    "\n",
    "  - Logistic regression\n",
    "  - SVM\n",
    "  - Decision tree\n",
    "  - Ensemble methods"
   ]
  },
  {
   "cell_type": "markdown",
   "metadata": {
    "slideshow": {
     "slide_type": "subslide"
    }
   },
   "source": [
    "# Logistic Regression: The Idea"
   ]
  },
  {
   "cell_type": "markdown",
   "metadata": {
    "slideshow": {
     "slide_type": "fragment"
    }
   },
   "source": [
    "Suppose our data has a small number of predictors, by visualizing the data we can intuitively check how easy it is to separate the classes.\n",
    "<img src=\"images/decision_boundary0.png\" alt=\"\" style=\"height: 300px;\"/>\n",
    "Ideally, the classes are easily separated by a curve (or surface) in the input space, this curve (or surface) is called the ***decision boundary***."
   ]
  },
  {
   "cell_type": "markdown",
   "metadata": {
    "slideshow": {
     "slide_type": "subslide"
    }
   },
   "source": [
    "We can try to model the **probability** of a data point being from a particular class by\n",
    "1. which side of the decision boundary it's on\n",
    "2. how far it is away from the boundary. Intuitively, the farther a data point is from the decision boundary, the more 'certain' we should be of it's classification.\n",
    "\n",
    "<img src=\"images/decision_boundary0.png\" alt=\"\" style=\"height: 300px;\"/>"
   ]
  },
  {
   "cell_type": "markdown",
   "metadata": {
    "slideshow": {
     "slide_type": "slide"
    }
   },
   "source": [
    "# Logistic Regression: Linear Decision Boundary"
   ]
  },
  {
   "cell_type": "markdown",
   "metadata": {
    "slideshow": {
     "slide_type": "fragment"
    }
   },
   "source": [
    "When the decision boundary is linear, it is defined by the equation\n",
    "$$\n",
    "\\mathbf{w}^\\top \\mathbf{x} = w_0x_0 + w_1x_1 + \\ldots + w_D x_D = 0\n",
    "$$\n",
    "where $x_0 = 1$.\n",
    "\n",
    "The vector $\\mathbf{w}$ allow us to gauge the 'distance' of a point from the decision boundary\n",
    "<img src=\"images/decision_boundary1.png\" alt=\"\" style=\"height: 300px;\"/>"
   ]
  },
  {
   "cell_type": "markdown",
   "metadata": {
    "slideshow": {
     "slide_type": "subslide"
    }
   },
   "source": [
    "To model the probability of labeling a point a certain class, we have to convert distance, $\\mathbf{w}^\\top\\mathbf{x}$ (which is unbounded) into a number between 0 and 1, using the ***sigmoid function***:\n",
    "$$\n",
    "\\text{Prob}[y = 1 | \\mathbf{x}] = \\text{sigm}(\\mathbf{w}^\\top\\mathbf{x})\n",
    "$$\n",
    "If $\\text{Prob}[y = 1 | \\mathbf{x}]$ we label $\\mathbf{x}$ class 1, otherwise we label it class 0.\n",
    "\n",
    "\n",
    "To *fit* our model, we need to learn the parameters of $\\mathbf{w}$ that maximizes the likelihood of our training data."
   ]
  },
  {
   "cell_type": "code",
   "execution_count": 17,
   "metadata": {
    "collapsed": true,
    "slideshow": {
     "slide_type": "skip"
    }
   },
   "outputs": [],
   "source": [
    "# read training toy data set\n",
    "linear_toy_data= pd.read_csv('toy_data_train.txt', delimiter=',')\n",
    "X_train = linear_toy_data.values[:, :-1]\n",
    "y_train = linear_toy_data.values[:, -1]\n",
    "# read testing toy data set\n",
    "linear_toy_data = pd.read_csv('toy_data_test.txt', delimiter=',')\n",
    "X_test = linear_toy_data.values[:, :-1]\n",
    "y_test = linear_toy_data.values[:, -1]"
   ]
  },
  {
   "cell_type": "code",
   "execution_count": 18,
   "metadata": {
    "slideshow": {
     "slide_type": "subslide"
    }
   },
   "outputs": [
    {
     "data": {
      "text/plain": [
       "LogisticRegression(C=1.0, class_weight=None, dual=False, fit_intercept=True,\n",
       "          intercept_scaling=1, max_iter=100, multi_class='ovr', n_jobs=1,\n",
       "          penalty='l2', random_state=None, solver='liblinear', tol=0.0001,\n",
       "          verbose=0, warm_start=False)"
      ]
     },
     "execution_count": 18,
     "metadata": {},
     "output_type": "execute_result"
    }
   ],
   "source": [
    "# create a logistic regression model with linear boundary\n",
    "logreg = linear_model.LogisticRegression(C=1.)\n",
    "# fit our logistic regression model\n",
    "logreg.fit(X_train, y_train)"
   ]
  },
  {
   "cell_type": "code",
   "execution_count": 19,
   "metadata": {
    "slideshow": {
     "slide_type": "subslide"
    }
   },
   "outputs": [
    {
     "data": {
      "image/png": "[encoded data removed]",
      "text/plain": [
       "<matplotlib.figure.Figure at 0x1a2a24f860>"
      ]
     },
     "metadata": {},
     "output_type": "display_data"
    }
   ],
   "source": [
    "# plot data and decision boundary of logistic regression\n",
    "fig, ax = plt.subplots(1, 2, figsize=(10, 5))\n",
    "# plot class 1\n",
    "ax[0].scatter(X_train[y_train == 1, 0], X_train[y_train == 1, 1], c='blue', label='Class 1')\n",
    "# plot class 0\n",
    "ax[0].scatter(X_train[y_train == 0, 0], X_train[y_train == 0, 1], c='red', label='Class 0', alpha=0.3)\n",
    "# label axes\n",
    "ax[0].set_xlabel('Feature 1')\n",
    "ax[0].set_ylabel('Feature 2')\n",
    "# label title\n",
    "ax[0].set_title('Training Toy Data Set for Binary Classification')\n",
    "# add legend\n",
    "ax[0].legend()\n",
    "\n",
    "# plot decision boundary\n",
    "ax[1] = plot_decision_boundary(X_train, y_train, logreg, \n",
    "                               'Logistic Regression (linear boundary)', \n",
    "                               ax[1])\n",
    "\n",
    "plt.tight_layout()\n",
    "plt.show()"
   ]
  },
  {
   "cell_type": "code",
   "execution_count": 20,
   "metadata": {
    "slideshow": {
     "slide_type": "subslide"
    }
   },
   "outputs": [
    {
     "data": {
      "text/html": [
       "<div>\n",
       "<style>\n",
       "    .dataframe thead tr:only-child th {\n",
       "        text-align: right;\n",
       "    }\n",
       "\n",
       "    .dataframe thead th {\n",
       "        text-align: left;\n",
       "    }\n",
       "\n",
       "    .dataframe tbody tr th {\n",
       "        vertical-align: top;\n",
       "    }\n",
       "</style>\n",
       "<table border=\"1\" class=\"dataframe\">\n",
       "  <thead>\n",
       "    <tr style=\"text-align: right;\">\n",
       "      <th></th>\n",
       "      <th>logistic regression</th>\n",
       "    </tr>\n",
       "  </thead>\n",
       "  <tbody>\n",
       "    <tr>\n",
       "      <th>train score</th>\n",
       "      <td>0.842105</td>\n",
       "    </tr>\n",
       "    <tr>\n",
       "      <th>test score</th>\n",
       "      <td>0.835443</td>\n",
       "    </tr>\n",
       "  </tbody>\n",
       "</table>\n",
       "</div>"
      ],
      "text/plain": [
       "             logistic regression\n",
       "train score             0.842105\n",
       "test score              0.835443"
      ]
     },
     "execution_count": 20,
     "metadata": {},
     "output_type": "execute_result"
    }
   ],
   "source": [
    "# evaluate model\n",
    "scores_df = pd.DataFrame(data={'logistic regression': [logreg.score(X_train, y_train), logreg.score(X_test, y_test)]}, \n",
    "                         index=['train score', 'test score'])\n",
    "scores_df.head()"
   ]
  },
  {
   "cell_type": "markdown",
   "metadata": {
    "slideshow": {
     "slide_type": "subslide"
    }
   },
   "source": [
    "**Questions:** Why does the model do worse on testing data rather than training data?"
   ]
  },
  {
   "cell_type": "markdown",
   "metadata": {
    "slideshow": {
     "slide_type": "slide"
    }
   },
   "source": [
    "# Logistic Regression: Non-Linear Decision Boundary"
   ]
  },
  {
   "cell_type": "code",
   "execution_count": 24,
   "metadata": {
    "slideshow": {
     "slide_type": "subslide"
    }
   },
   "outputs": [
    {
     "data": {
      "image/png": "[encoded data removed]",
      "text/plain": [
       "<matplotlib.figure.Figure at 0x1a2a24f0f0>"
      ]
     },
     "metadata": {},
     "output_type": "display_data"
    }
   ],
   "source": [
    "# generate more complicated toy data\n",
    "X_train, X_test, y_train, y_test = generate_toy_data(test_size, rand_state)\n",
    "\n",
    "# plot data and decision boundary of logistic regression\n",
    "fig, ax = plt.subplots(1, 1, figsize=(5, 5))\n",
    "# plot class 1\n",
    "ax.scatter(X_train[y_train == 1, 0], X_train[y_train == 1, 1], c='blue', label='Class 1')\n",
    "# plot class 0\n",
    "ax.scatter(X_train[y_train == 0, 0], X_train[y_train == 0, 1], c='red', label='Class 0', alpha=0.3)\n",
    "# label axes\n",
    "ax.set_xlabel('Feature 1')\n",
    "ax.set_ylabel('Feature 2')\n",
    "# label title\n",
    "ax.set_title('Training Toy Data Set for Binary Classification')\n",
    "# add legend\n",
    "ax.legend()\n",
    "# add x, y limits\n",
    "ax.set_xlim([-4, 4])\n",
    "ax.set_ylim([-4, 4])\n",
    "\n",
    "plt.tight_layout()\n",
    "plt.show()"
   ]
  },
  {
   "cell_type": "markdown",
   "metadata": {
    "slideshow": {
     "slide_type": "subslide"
    }
   },
   "source": [
    "A simple non-linear boundary is a quadratic decision boundary. It is defined by the equation\n",
    "$$\n",
    "\\mathbf{w}^\\top \\mathbf{x}_{\\text{poly}} = w_0 + w_{11}x_1 + w_{12}x^2_1 + \\ldots + w_{D1}x_D + w_{D2} x^2_D = 0\n",
    "$$\n",
    "where $\\mathbf{x}_{\\text{poly}} = [1, x_1, x^2_1, \\ldots, x_D, x^2_D]$.\n",
    "\n",
    "What the above is saying is that a quadratic equation in $\\mathbf{x}$ is **secretly a linear equation** in the transformed vector $\\mathbf{x}_{\\text{poly}}$.\n",
    "\n",
    "Computing p-powers of the features:\n",
    "$$\n",
    "\\begin{aligned}\n",
    "\\mathbb{R}^D &\\to \\mathbb{R}^{D\\cdot p}\\\\\n",
    "[x_1, \\ldots, x_D] &\\rightarrow [x_1, x^2_1\\ldots, x^p_1, \\ldots, x_D, x^2_D\\ldots, x^p_D]\n",
    "\\end{aligned}\n",
    "$$\n",
    "\n",
    "<img src=\"images/poly_features.jpg\" alt=\"\" style=\"height: 80px;\"/>"
   ]
  },
  {
   "cell_type": "code",
   "execution_count": 21,
   "metadata": {
    "slideshow": {
     "slide_type": "subslide"
    }
   },
   "outputs": [
    {
     "data": {
      "text/plain": [
       "LogisticRegression(C=1.0, class_weight=None, dual=False, fit_intercept=True,\n",
       "          intercept_scaling=1, max_iter=100, multi_class='ovr', n_jobs=1,\n",
       "          penalty='l2', random_state=None, solver='liblinear', tol=0.0001,\n",
       "          verbose=0, warm_start=False)"
      ]
     },
     "execution_count": 21,
     "metadata": {},
     "output_type": "execute_result"
    }
   ],
   "source": [
    "# create polynomial features\n",
    "quad_features = preprocessing.PolynomialFeatures(degree=2)\n",
    "X_train_quad = quad_features.fit_transform(X_train)\n",
    "X_test_quad = quad_features.fit_transform(X_test)\n",
    "# fit our logistic regression model with non-linear decision boundary\n",
    "logreg.fit(X_train_quad, y_train)"
   ]
  },
  {
   "cell_type": "code",
   "execution_count": 22,
   "metadata": {
    "slideshow": {
     "slide_type": "subslide"
    }
   },
   "outputs": [
    {
     "data": {
      "image/png": "[encoded data removed]",
      "text/plain": [
       "<matplotlib.figure.Figure at 0x1a1d3b72e8>"
      ]
     },
     "metadata": {},
     "output_type": "display_data"
    }
   ],
   "source": [
    "# plot data and decision boundary of logistic regression\n",
    "fig, ax = plt.subplots(1, 2, figsize=(10, 5))\n",
    "# plot class 1\n",
    "ax[0].scatter(X_train[y_train == 1, 0], X_train[y_train == 1, 1], c='blue', label='Class 1')\n",
    "# plot class 0\n",
    "ax[0].scatter(X_train[y_train == 0, 0], X_train[y_train == 0, 1], c='red', label='Class 0', alpha=0.3)\n",
    "# label axes\n",
    "ax[0].set_xlabel('Feature 1')\n",
    "ax[0].set_ylabel('Feature 2')\n",
    "# label title\n",
    "ax[0].set_title('Training Toy Data Set for Binary Classification')\n",
    "# add legend\n",
    "ax[0].legend()\n",
    "# set x, y limits\n",
    "ax[0].set_xlim([-4, 4])\n",
    "ax[0].set_ylim([-4, 4])\n",
    "\n",
    "# plot decision boundary\n",
    "ax[1] = plot_decision_boundary(X_train, y_train, logreg, \n",
    "                               'Logistic Regression (quadratic boundary)', \n",
    "                               ax[1], bounds=(-6, 7), poly_flag=True)\n",
    "# set x, y limits\n",
    "ax[1].set_xlim([-4, 4])\n",
    "ax[1].set_ylim([-4, 4])\n",
    "\n",
    "plt.tight_layout()\n",
    "plt.show()"
   ]
  },
  {
   "cell_type": "code",
   "execution_count": 23,
   "metadata": {
    "slideshow": {
     "slide_type": "subslide"
    }
   },
   "outputs": [
    {
     "data": {
      "text/html": [
       "<div>\n",
       "<style>\n",
       "    .dataframe thead tr:only-child th {\n",
       "        text-align: right;\n",
       "    }\n",
       "\n",
       "    .dataframe thead th {\n",
       "        text-align: left;\n",
       "    }\n",
       "\n",
       "    .dataframe tbody tr th {\n",
       "        vertical-align: top;\n",
       "    }\n",
       "</style>\n",
       "<table border=\"1\" class=\"dataframe\">\n",
       "  <thead>\n",
       "    <tr style=\"text-align: right;\">\n",
       "      <th></th>\n",
       "      <th>logistic regression</th>\n",
       "    </tr>\n",
       "  </thead>\n",
       "  <tbody>\n",
       "    <tr>\n",
       "      <th>train score</th>\n",
       "      <td>0.871429</td>\n",
       "    </tr>\n",
       "    <tr>\n",
       "      <th>test score</th>\n",
       "      <td>0.816667</td>\n",
       "    </tr>\n",
       "  </tbody>\n",
       "</table>\n",
       "</div>"
      ],
      "text/plain": [
       "             logistic regression\n",
       "train score             0.871429\n",
       "test score              0.816667"
      ]
     },
     "execution_count": 23,
     "metadata": {},
     "output_type": "execute_result"
    }
   ],
   "source": [
    "# evaluate model\n",
    "scores_df = pd.DataFrame(data={'logistic regression': [logreg.score(X_train_quad, y_train), logreg.score(X_test_quad, y_test)]}, \n",
    "                         index=['train score', 'test score'])\n",
    "scores_df.head()"
   ]
  },
  {
   "cell_type": "markdown",
   "metadata": {
    "slideshow": {
     "slide_type": "slide"
    }
   },
   "source": [
    "# Support Vector Classifiers (SVC)"
   ]
  },
  {
   "cell_type": "markdown",
   "metadata": {
    "slideshow": {
     "slide_type": "fragment"
    }
   },
   "source": [
    "Another way to use a decision boundary for classification is to build a Support Vector Classifier. \n",
    "\n",
    "1. Logistic regression: \n",
    "  - uses the decision boundary to model the **probability** of labeling a point a certain class\n",
    "  - maximizes the likelihood of the training set\n",
    "\n",
    "2. Support vector classifier: \n",
    "  - classifies points on one side of boundary as one class and the other side of the boundary the other class\n",
    "  - maximizes the distance between the points and the boundary, while minimizing the number of misclassifications"
   ]
  },
  {
   "cell_type": "markdown",
   "metadata": {
    "slideshow": {
     "slide_type": "subslide"
    }
   },
   "source": [
    "Recall from building logistic regression with quadratic boundaries: the key observation is that training a polynomial model is just training a linear model on data with transformed predictors. \n",
    "\n",
    "In our previous example, transforming the data to fit a 2nd degree polynomial model requires a map\n",
    "\\begin{aligned}\n",
    "&\\phi: \\mathbb{R} \\to \\mathbb{R}^3\\\\\n",
    "&\\phi(x) = (x^0, x^1, x^2)\n",
    "\\end{aligned}\n",
    "where $\\mathbb{R}$ called the ***input space***, $\\mathbb{R}^3$ is called the ***feature space***. \n",
    "\n",
    "While the data may not be linearly separable in the input space, it may be in the feature space.\n",
    "<img src=\"images/feature_space.png\" alt=\"\" style=\"height: 300px;\"/>"
   ]
  },
  {
   "cell_type": "markdown",
   "metadata": {
    "slideshow": {
     "slide_type": "subslide"
    }
   },
   "source": [
    "**The Kernel Trick:** since the feature space can extremely high dimensional, computing $\\phi$ explicitly can be costly. \n",
    "\n",
    "Instead, we note that computing $\\phi$ is unnecessary. For training a (support vector) classifier we just need to compute the inner products of vectors in feature space, this inner product is called ***the kernel function***.\n",
    "\n",
    "**For Practitioners:**\n",
    "\n",
    "A support vector classifier model, as implemented in `sklearn`, has several 'customizations' that affect model performance:\n",
    "\n",
    "1. a choice of the kernel function (i.e. a choice of the map $\\phi$ of the input into some feature space)\n",
    "2. for each kernel function, a number of constants (hyper-parameters)"
   ]
  },
  {
   "cell_type": "markdown",
   "metadata": {
    "slideshow": {
     "slide_type": "slide"
    }
   },
   "source": [
    "# Decision Trees"
   ]
  },
  {
   "cell_type": "markdown",
   "metadata": {
    "slideshow": {
     "slide_type": "fragment"
    }
   },
   "source": [
    "Logistic regression models with linear boundaries are intuitive to interpret. We often examine the impact of each predictor on the log-odds of a positive classification:\n",
    "$$\n",
    "12 x_1 - 0.4 x_2 + -20x_3 = 0.\n",
    "$$\n",
    "\n",
    "\n",
    "But it is less straightforward to interpret nonlinear decision boundaries in the problem context:\n",
    "$$\n",
    "(x_3 + 2 x_2)^2 - x_1 + 10 = 0.\n",
    "$$\n",
    "\n",
    "It would be desirable to build models with complex decision boundaries that are also easy to interpret."
   ]
  },
  {
   "cell_type": "markdown",
   "metadata": {
    "slideshow": {
     "slide_type": "subslide"
    }
   },
   "source": [
    "But people in every walk of life have long been using ***decision trees*** (flow charts) for differentiating between classes of objects and phenomena:\n",
    "<img src=\"images/dt_partition.png\" alt=\"\" style=\"height: 300px;\"/>\n",
    "Every flow chart tree corresponds to a partition of the input space by axis aligned lines or (hyper) planes.\n",
    "\n",
    "Conversely, every such partition can be written as a flow chart tree."
   ]
  },
  {
   "cell_type": "markdown",
   "metadata": {
    "slideshow": {
     "slide_type": "subslide"
    }
   },
   "source": [
    "**Fitting a decision tree on training data:**\n",
    "\n",
    "1. Start with an empty decision tree (undivided feature space)\n",
    "2. Choose the 'optimal' predictor on which to split and choose the 'optimal' threshold value for splitting.\n",
    "3. Recurse on on each new node until some stopping condition is met\n",
    "\n",
    "Typically, we measure optimality by the purity (in terms of observed clases) of each region defined by the tree.\n",
    "\n",
    "We usually stop until a pre-defined maximum depth is reached."
   ]
  },
  {
   "cell_type": "markdown",
   "metadata": {
    "slideshow": {
     "slide_type": "subslide"
    }
   },
   "source": [
    "**For Practitioners:**\n",
    "\n",
    "A decision tree model, as implemented in `sklearn`, has several hyper-parameters. Two important ones being:\n",
    "\n",
    "1. stopping condition (usually the max depth, but can also be minimum number of observations per region defined by tree)\n",
    "2. splittin condition (what criteria of purity, in terms of observed classes, used to determine an 'optimal' split)"
   ]
  },
  {
   "cell_type": "markdown",
   "metadata": {
    "slideshow": {
     "slide_type": "subslide"
    }
   },
   "source": [
    "**Deep vs Shallow Trees**\n",
    "\n",
    "<img src=\"images/dt_bias.png\" alt=\"\" style=\"height: 500px;\"/>\n",
    "\n",
    "***Exercise:*** implement decision trees of various depth on the toy data set with non-linear boundary. What is the depth you need to get a 'good' fit?"
   ]
  },
  {
   "cell_type": "markdown",
   "metadata": {
    "slideshow": {
     "slide_type": "subslide"
    }
   },
   "source": [
    "**Deep vs Shallow Trees**\n",
    "If you randomly draw 50 sample from our toy data with non-linear boundary and fit a decision tree on each sample individually, their decision boundaries will look like the following:\n",
    "\n",
    "<img src=\"images/dt_var.png\" alt=\"\" style=\"height: 300px;\"/>\n",
    "\n",
    "***Exercise:*** plot the training score and the testing score as a function of the depth of the decision tree. What do you observe?"
   ]
  },
  {
   "cell_type": "markdown",
   "metadata": {
    "slideshow": {
     "slide_type": "slide"
    }
   },
   "source": [
    "# Ensemble Methods: Bagging (Random Forest)"
   ]
  },
  {
   "cell_type": "markdown",
   "metadata": {
    "slideshow": {
     "slide_type": "fragment"
    }
   },
   "source": [
    "As we've seen:\n",
    "\n",
    "1. a shallow decision tree is often unable to capture complex decision boundaries (high bias)\n",
    "2. a deep decision tree tends to be overly sensitive to the noise the training data leading to overfitting (high variance)\n",
    "\n",
    "A compromise for reducing variance is to fit a large number of sensitive models (deep trees) on the training data and then average the results (reducing the variance).\n",
    "\n",
    "<img src=\"images/random_forest.jpg\" alt=\"\" style=\"height: 300px;\"/>\n",
    "\n",
    "A random forest is the 'averaged model' of collection of deep decision trees each learned on a subset of the training data (each branch in each tree is also trained on a randomized set of input dimensions to reduce correlation between trees)."
   ]
  },
  {
   "cell_type": "markdown",
   "metadata": {
    "slideshow": {
     "slide_type": "subslide"
    }
   },
   "source": [
    "**For Practitioners:**\n",
    "\n",
    "A random forest, as implemented in `sklearn`, has a number of hyper-parameters that effects model performance. Some important hyper-parameters are:\n",
    "\n",
    "1. number of trees in the forest\n",
    "2. max depth of trees\n",
    "3. hyper-parameters that determines the subsets of input dimensions to learn each branch and the subsets of training data to learn each tree"
   ]
  },
  {
   "cell_type": "markdown",
   "metadata": {
    "slideshow": {
     "slide_type": "slide"
    }
   },
   "source": [
    "# Ensemble Methods: Boosting (AdaBoost)"
   ]
  },
  {
   "cell_type": "markdown",
   "metadata": {
    "slideshow": {
     "slide_type": "fragment"
    }
   },
   "source": [
    "Instead of 'averaging' over a large number of complex models (to reduce variance or overfitting), we can aggregate a large number of simple models into a complex model (to overcome high bias).\n",
    "\n",
    "Each model $T_h$ might be a poor fit for the data, but a linear combination of the ensemble\n",
    "$$\n",
    "T = \\sum_h \\lambda_h T_h\n",
    "$$\n",
    "can be expressive."
   ]
  },
  {
   "cell_type": "markdown",
   "metadata": {
    "slideshow": {
     "slide_type": "subslide"
    }
   },
   "source": [
    "***Gradient boosting*** is a method for iteratively building a complex regression model $T$ by adding simple models. Each new simple model added to the ensemble compensates for the weaknesses of the current ensemble.\n",
    "\n",
    "1. We start by fitting a simple model $T^{(0)}$ on the training data, $\\{(x_1, y_1),\\ldots, (x_N, y_N)\\}$.\n",
    "2. Compute the ***residuals*** or errors $\\{r_1, \\ldots, r_N\\}$ for $T$\n",
    "3. Fit a simple model $T^{(i)}$ to models the errors of $T$\n",
    "4. Set $T\\leftarrow T + \\lambda T^{i}$\n",
    "\n",
    "\n",
    "Intuitively, with each addition of $T^{(i)}$, the error is reduced \n",
    "\n",
    "Note that gradient boosting has a hyper-parameter, $\\lambda$. This is called the ***learning rate***."
   ]
  },
  {
   "cell_type": "markdown",
   "metadata": {
    "slideshow": {
     "slide_type": "subslide"
    }
   },
   "source": [
    "Gradient boosting is in fact gradient descent, with the objective of minimizing model error:\n",
    "\n",
    "<img src=\"images/descent.png\" alt=\"\" style=\"height: 300px;\"/>"
   ]
  },
  {
   "cell_type": "markdown",
   "metadata": {
    "slideshow": {
     "slide_type": "subslide"
    }
   },
   "source": [
    "**For Practitioners:**\n",
    "\n",
    "All of this formalism is to say that ***it is important to choose a good learning rate***!\n",
    "\n",
    "\n",
    "<img src=\"images/learning_rate.png\" alt=\"\" style=\"height: 300px;\"/>"
   ]
  },
  {
   "cell_type": "markdown",
   "metadata": {
    "slideshow": {
     "slide_type": "slide"
    }
   },
   "source": [
    "# EXAMPLE: CLASSIFICATION WITH REAL DATA"
   ]
  },
  {
   "cell_type": "markdown",
   "metadata": {
    "slideshow": {
     "slide_type": "subslide"
    }
   },
   "source": [
    "##  Predicting Hubway User Types\n",
    "### Using Two Covariates:\n",
    "- **Simple Covariates:** Trip duration, check-out hour\n",
    "- **Response:** 1 for subscriber, 0 for non-subscribe\n",
    "- **Models:** Logistic regression (linear boundary), SVM (RBF kernel), Random Forest, AdaBoost"
   ]
  },
  {
   "cell_type": "code",
   "execution_count": 29,
   "metadata": {
    "collapsed": true,
    "slideshow": {
     "slide_type": "subslide"
    }
   },
   "outputs": [],
   "source": [
    "# define covariates: duration, checkout hour, gender, age, distance from start station to city center, \n",
    "# distance from end station to city center\n",
    "X = ride_data[['duration', 'check_out_hour']]\n",
    "X_expanded = ride_data[['duration', 'check_out_hour', 'start_dist_to_center', 'end_dist_to_center']].fillna(0)\n",
    "\n",
    "# define response variable as subscriber type: 1 for subscriber, 0 for non-subscriber\n",
    "y = ride_data['subsc_type']"
   ]
  },
  {
   "cell_type": "code",
   "execution_count": 30,
   "metadata": {
    "collapsed": true,
    "slideshow": {
     "slide_type": "subslide"
    }
   },
   "outputs": [],
   "source": [
    "# train test split\n",
    "X_train, X_test, y_train, y_test = model_selection.train_test_split(X.values, y.values, test_size=test_size, random_state=rand_state)\n",
    "\n",
    "# standardize the features\n",
    "scaler = preprocessing.StandardScaler().fit(X_train)\n",
    "X_train = scaler.transform(X_train)\n",
    "X_test = scaler.transform(X_test)"
   ]
  },
  {
   "cell_type": "code",
   "execution_count": 31,
   "metadata": {
    "slideshow": {
     "slide_type": "subslide"
    }
   },
   "outputs": [
    {
     "data": {
      "text/html": [
       "<div>\n",
       "<style>\n",
       "    .dataframe thead tr:only-child th {\n",
       "        text-align: right;\n",
       "    }\n",
       "\n",
       "    .dataframe thead th {\n",
       "        text-align: left;\n",
       "    }\n",
       "\n",
       "    .dataframe tbody tr th {\n",
       "        vertical-align: top;\n",
       "    }\n",
       "</style>\n",
       "<table border=\"1\" class=\"dataframe\">\n",
       "  <thead>\n",
       "    <tr style=\"text-align: right;\">\n",
       "      <th></th>\n",
       "      <th>AdaBoost</th>\n",
       "      <th>RF</th>\n",
       "      <th>logistic</th>\n",
       "      <th>svm</th>\n",
       "      <th>tree</th>\n",
       "    </tr>\n",
       "  </thead>\n",
       "  <tbody>\n",
       "    <tr>\n",
       "      <th>train score</th>\n",
       "      <td>0.764286</td>\n",
       "      <td>0.997143</td>\n",
       "      <td>0.658571</td>\n",
       "      <td>0.662857</td>\n",
       "      <td>0.962857</td>\n",
       "    </tr>\n",
       "    <tr>\n",
       "      <th>test score</th>\n",
       "      <td>0.693333</td>\n",
       "      <td>0.653333</td>\n",
       "      <td>0.716667</td>\n",
       "      <td>0.680000</td>\n",
       "      <td>0.620000</td>\n",
       "    </tr>\n",
       "  </tbody>\n",
       "</table>\n",
       "</div>"
      ],
      "text/plain": [
       "             AdaBoost        RF  logistic       svm      tree\n",
       "train score  0.764286  0.997143  0.658571  0.662857  0.962857\n",
       "test score   0.693333  0.653333  0.716667  0.680000  0.620000"
      ]
     },
     "execution_count": 31,
     "metadata": {},
     "output_type": "execute_result"
    }
   ],
   "source": [
    "# list of model names\n",
    "methods = ['logistic', 'svm', 'tree', 'RF', 'AdaBoost']\n",
    "# list of model for classification\n",
    "models = [linear_model.LogisticRegression(C=10, random_state=rand_state), \n",
    "          svm.SVC(C=1, gamma=0.5, random_state=rand_state), \n",
    "          tree.DecisionTreeClassifier(max_depth = 20, random_state=rand_state), \n",
    "          ensemble.RandomForestClassifier(n_estimators=50, random_state=rand_state), \n",
    "          ensemble.AdaBoostClassifier(tree.DecisionTreeClassifier(max_depth=2), \n",
    "                                      n_estimators=50, random_state=rand_state, learning_rate=1e-1)]\n",
    "# apply models to our data\n",
    "scores = {}\n",
    "for i in range(len(methods)):\n",
    "    models[i].fit(X_train, y_train)\n",
    "    scores[methods[i]] = [models[i].score(X_train, y_train), models[i].score(X_test, y_test)]\n",
    "# compare results\n",
    "scores_df = pd.DataFrame(data=scores, index=['train score', 'test score'])\n",
    "scores_df.head()"
   ]
  },
  {
   "cell_type": "markdown",
   "metadata": {
    "slideshow": {
     "slide_type": "slide"
    }
   },
   "source": [
    "##  Predicting Hubway User Types\n",
    "### Using Four Covariates:\n",
    "- **Simple Covariates:** Trip duration, check-out hour, distance between start and end stations from city center\n",
    "- **Response:** 1 for subscriber, 0 for non-subscribe\n",
    "- **Models:** Logistic regression (linear boundary), SVM (RBF kernel), Random Forest, AdaBoost"
   ]
  },
  {
   "cell_type": "code",
   "execution_count": 32,
   "metadata": {
    "collapsed": true,
    "slideshow": {
     "slide_type": "subslide"
    }
   },
   "outputs": [],
   "source": [
    "# train test split\n",
    "X_train, X_test, y_train, y_test = model_selection.train_test_split(X_expanded.values, y.values, test_size=test_size, random_state=rand_state)\n",
    "\n",
    "# standardize the features\n",
    "scaler = preprocessing.StandardScaler().fit(X_train)\n",
    "X_train = scaler.transform(X_train)\n",
    "X_test = scaler.transform(X_test)"
   ]
  },
  {
   "cell_type": "code",
   "execution_count": 33,
   "metadata": {
    "slideshow": {
     "slide_type": "subslide"
    }
   },
   "outputs": [
    {
     "data": {
      "text/html": [
       "<div>\n",
       "<style>\n",
       "    .dataframe thead tr:only-child th {\n",
       "        text-align: right;\n",
       "    }\n",
       "\n",
       "    .dataframe thead th {\n",
       "        text-align: left;\n",
       "    }\n",
       "\n",
       "    .dataframe tbody tr th {\n",
       "        vertical-align: top;\n",
       "    }\n",
       "</style>\n",
       "<table border=\"1\" class=\"dataframe\">\n",
       "  <thead>\n",
       "    <tr style=\"text-align: right;\">\n",
       "      <th></th>\n",
       "      <th>AdaBoost</th>\n",
       "      <th>RF</th>\n",
       "      <th>logistic</th>\n",
       "      <th>svm</th>\n",
       "      <th>tree</th>\n",
       "    </tr>\n",
       "  </thead>\n",
       "  <tbody>\n",
       "    <tr>\n",
       "      <th>train score (expanded covariates)</th>\n",
       "      <td>0.767143</td>\n",
       "      <td>1.000000</td>\n",
       "      <td>0.665714</td>\n",
       "      <td>0.697143</td>\n",
       "      <td>0.975714</td>\n",
       "    </tr>\n",
       "    <tr>\n",
       "      <th>test score(expanded covariates)</th>\n",
       "      <td>0.706667</td>\n",
       "      <td>0.673333</td>\n",
       "      <td>0.690000</td>\n",
       "      <td>0.653333</td>\n",
       "      <td>0.676667</td>\n",
       "    </tr>\n",
       "  </tbody>\n",
       "</table>\n",
       "</div>"
      ],
      "text/plain": [
       "                                   AdaBoost        RF  logistic       svm  \\\n",
       "train score (expanded covariates)  0.767143  1.000000  0.665714  0.697143   \n",
       "test score(expanded covariates)    0.706667  0.673333  0.690000  0.653333   \n",
       "\n",
       "                                       tree  \n",
       "train score (expanded covariates)  0.975714  \n",
       "test score(expanded covariates)    0.676667  "
      ]
     },
     "execution_count": 33,
     "metadata": {},
     "output_type": "execute_result"
    }
   ],
   "source": [
    "# apply models to our data\n",
    "scores = {}\n",
    "for i in range(len(methods)):\n",
    "    models[i].fit(X_train, y_train)\n",
    "    scores[methods[i]] = [models[i].score(X_train, y_train), models[i].score(X_test, y_test)]\n",
    "# compare results\n",
    "scores_df = pd.DataFrame(data=scores, index=['train score (expanded covariates)', 'test score(expanded covariates)'])\n",
    "scores_df.head()"
   ]
  },
  {
   "cell_type": "markdown",
   "metadata": {
    "slideshow": {
     "slide_type": "slide"
    }
   },
   "source": [
    "# Lingering Questions:\n",
    "\n",
    "-  You will notice that the train/test score of the various models are affected by the values of the hyper-parameters as well as the train/test split.\n",
    "   - How do we determine the \"best\" hyper-parameters? Should we pick ones that maximizes the test score?\n",
    "   - How do we compare the performance of the various models in a fair way? Maybe the high performing models just got lucky with this particular test set?\n",
    "- Is accuracy (percent of data correctly classified) a good measure for evaluating the performance of a classifier? Can you think of a situation where accuracy can be misleading?\n",
    "\n",
    "We will explore answers to these questions in Part III: Model Evaluation."
   ]
  }
 ],
 "metadata": {
  "anaconda-cloud": {},
  "celltoolbar": "Slideshow",
  "kernelspec": {
   "display_name": "Python [conda env:py36]",
   "language": "python",
   "name": "conda-env-py36-py"
  },
  "language_info": {
   "codemirror_mode": {
    "name": "ipython",
    "version": 3
   },
   "file_extension": ".py",
   "mimetype": "text/x-python",
   "name": "python",
   "nbconvert_exporter": "python",
   "pygments_lexer": "ipython3",
   "version": "3.6.3"
  }
 },
 "nbformat": 4,
 "nbformat_minor": 2
}
